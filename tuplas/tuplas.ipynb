{
 "cells": [
  {
   "cell_type": "markdown",
   "metadata": {},
   "source": [
    "# Investigacion sobre las Tuplas\n",
    "## 1. Definicion\n",
    "## 2. Declaración\n",
    "## 3. Operaciones\n",
    "## 4. Métodos\n",
    "## 5. Diferencia Respecto a las listas  "
   ]
  },
  {
   "cell_type": "markdown",
   "metadata": {},
   "source": [
    "### Definicion\n",
    "- Una tupla es una colección ordenada de elementos que pueden ser de diferentes tipos, como enteros, cadenas, flotantes, etc. Se crean utilizando paréntesis ( ) y los elementos se separan por comas','."
   ]
  },
  {
   "cell_type": "markdown",
   "metadata": {},
   "source": [
    "- Declaracion "
   ]
  },
  {
   "cell_type": "code",
   "execution_count": 9,
   "metadata": {},
   "outputs": [],
   "source": [
    "tupla = (1, 2, 3, 'a', 'b', 'c')"
   ]
  },
  {
   "cell_type": "markdown",
   "metadata": {},
   "source": [
    "- Acceso a elementos"
   ]
  },
  {
   "cell_type": "code",
   "execution_count": 10,
   "metadata": {},
   "outputs": [
    {
     "name": "stdout",
     "output_type": "stream",
     "text": [
      "1\n"
     ]
    }
   ],
   "source": [
    "print(tupla[0])  # Imprime el primer elemento: 1"
   ]
  },
  {
   "cell_type": "markdown",
   "metadata": {},
   "source": [
    "- operaciones"
   ]
  },
  {
   "cell_type": "markdown",
   "metadata": {},
   "source": [
    "- Longitud:"
   ]
  },
  {
   "cell_type": "code",
   "execution_count": 11,
   "metadata": {},
   "outputs": [
    {
     "name": "stdout",
     "output_type": "stream",
     "text": [
      "6\n"
     ]
    }
   ],
   "source": [
    "print(len(tupla))  # Imprime la longitud de la tupla: 6"
   ]
  },
  {
   "cell_type": "markdown",
   "metadata": {},
   "source": [
    "- Concatenación"
   ]
  },
  {
   "cell_type": "code",
   "execution_count": 12,
   "metadata": {},
   "outputs": [],
   "source": [
    "nueva_tupla = tupla + (4, 5, 6)"
   ]
  },
  {
   "cell_type": "markdown",
   "metadata": {},
   "source": [
    "- Repetición"
   ]
  },
  {
   "cell_type": "code",
   "execution_count": 13,
   "metadata": {},
   "outputs": [],
   "source": [
    "tupla_repetida = tupla * 2"
   ]
  },
  {
   "cell_type": "markdown",
   "metadata": {},
   "source": [
    "- Pertenencia"
   ]
  },
  {
   "cell_type": "code",
   "execution_count": 14,
   "metadata": {},
   "outputs": [
    {
     "name": "stdout",
     "output_type": "stream",
     "text": [
      "True\n"
     ]
    }
   ],
   "source": [
    "print('a' in tupla)  # Imprime True"
   ]
  },
  {
   "cell_type": "markdown",
   "metadata": {},
   "source": [
    "- Metodos"
   ]
  },
  {
   "cell_type": "markdown",
   "metadata": {},
   "source": [
    "- 1. count(): Retorna el número de veces que aparece un elemento en la tupla."
   ]
  },
  {
   "cell_type": "code",
   "execution_count": 15,
   "metadata": {},
   "outputs": [
    {
     "name": "stdout",
     "output_type": "stream",
     "text": [
      "1\n"
     ]
    }
   ],
   "source": [
    "print(tupla.count(1))  # Imprime el número de veces que aparece 1: 1"
   ]
  },
  {
   "cell_type": "markdown",
   "metadata": {},
   "source": [
    "- 2. index(): Retorna el índice de la primera aparición de un elemento en la tupla."
   ]
  },
  {
   "cell_type": "code",
   "execution_count": 8,
   "metadata": {},
   "outputs": [
    {
     "name": "stdout",
     "output_type": "stream",
     "text": [
      "3\n"
     ]
    }
   ],
   "source": [
    "print(tupla.index('a'))  # Imprime el índice de 'a': 3"
   ]
  },
  {
   "cell_type": "markdown",
   "metadata": {},
   "source": [
    "### Diferencias respecto a las listas:\n",
    "- Inmutabilidad: Las tuplas son inmutables, lo que significa que no se pueden modificar después de su creación, mientras que las listas son mutables y se pueden modificar.\n",
    "- Sintaxis de declaración: Las tuplas se crean utilizando paréntesis ( ), mientras que las listas se crean utilizando corchetes [ ].\n",
    "- Uso: Las tuplas se utilizan cuando se necesita una colección de elementos inmutable, por ejemplo, para representar coordenadas (x, y), mientras que las listas se utilizan cuando se necesita una colección de elementos que pueda modificarse, como una lista de tareas pendientes."
   ]
  },
  {
   "cell_type": "markdown",
   "metadata": {},
   "source": [
    "## Ejemplos"
   ]
  },
  {
   "cell_type": "markdown",
   "metadata": {},
   "source": [
    "-  1. Suma de elementos de una tupla:\n",
    "- Función que reciba una tupla de números y devuelva la suma de todos los elementos."
   ]
  },
  {
   "cell_type": "code",
   "execution_count": null,
   "metadata": {},
   "outputs": [],
   "source": [
    "def suma_tupla(tupla):\n",
    "    return sum(tupla)\n",
    "\n",
    "# Ejemplo de uso\n",
    "tupla = (1, 2, 3, 4, 5)\n",
    "print(\"La suma de los elementos de la tupla es:\", suma_tupla(tupla))"
   ]
  },
  {
   "cell_type": "markdown",
   "metadata": {},
   "source": [
    "- 2. Encontrar el mínimo y máximo de una tupla:\n",
    "- Función que encuentre el mínimo y el máximo de una tupla de números y los devuelva como una nueva tupla."
   ]
  },
  {
   "cell_type": "code",
   "execution_count": null,
   "metadata": {},
   "outputs": [],
   "source": [
    "def min_max_tupla(tupla):\n",
    "    return (min(tupla), max(tupla))\n",
    "\n",
    "# Ejemplo de uso\n",
    "tupla = (10, 3, 7, 21, 5)\n",
    "minimo, maximo = min_max_tupla(tupla)\n",
    "print(\"El mínimo de la tupla es:\", minimo)\n",
    "print(\"El máximo de la tupla es:\", maximo)"
   ]
  },
  {
   "cell_type": "markdown",
   "metadata": {},
   "source": [
    "- 3. Contar elementos únicos en una tupla:\n",
    "- Función que cuente cuántos elementos únicos hay en una tupla."
   ]
  },
  {
   "cell_type": "code",
   "execution_count": 1,
   "metadata": {},
   "outputs": [
    {
     "name": "stdout",
     "output_type": "stream",
     "text": [
      "El número de elementos únicos en la tupla es: 5\n"
     ]
    }
   ],
   "source": [
    "def contar_elementos_unicos(tupla):\n",
    "    return len(set(tupla))\n",
    "\n",
    "# Ejemplo de uso\n",
    "tupla = (1, 2, 3, 2, 4, 5, 1, 3)\n",
    "print(\"El número de elementos únicos en la tupla es:\", contar_elementos_unicos(tupla))"
   ]
  },
  {
   "cell_type": "markdown",
   "metadata": {},
   "source": [
    "- 4. Filtrar elementos impares de una tupla:\n",
    "- Función que reciba una tupla de números y devuelva una nueva tupla con solo los elementos impares."
   ]
  },
  {
   "cell_type": "code",
   "execution_count": 2,
   "metadata": {},
   "outputs": [
    {
     "name": "stdout",
     "output_type": "stream",
     "text": [
      "Tupla original: (1, 2, 3, 4, 5, 6, 7, 8, 9)\n",
      "Tupla con elementos impares: (1, 3, 5, 7, 9)\n"
     ]
    }
   ],
   "source": [
    "def filtrar_impares(tupla):\n",
    "    return tuple(x for x in tupla if x % 2 != 0)\n",
    "\n",
    "# Ejemplo de uso\n",
    "tupla = (1, 2, 3, 4, 5, 6, 7, 8, 9)\n",
    "print(\"Tupla original:\", tupla)\n",
    "print(\"Tupla con elementos impares:\", filtrar_impares(tupla))"
   ]
  },
  {
   "cell_type": "code",
   "execution_count": 3,
   "metadata": {},
   "outputs": [
    {
     "name": "stdout",
     "output_type": "stream",
     "text": [
      "Coordenada X: 10\n",
      "Coordenada Y: 20\n"
     ]
    }
   ],
   "source": [
    "# 5. Retornar múltiples valores desde una función\n",
    "def obtener_coordenadas():\n",
    "    x = 10\n",
    "    y = 20\n",
    "    return x, y\n",
    "\n",
    "coordenada_x, coordenada_y = obtener_coordenadas()\n",
    "print(\"Coordenada X:\", coordenada_x)\n",
    "print(\"Coordenada Y:\", coordenada_y)\n",
    "\n"
   ]
  },
  {
   "cell_type": "code",
   "execution_count": 4,
   "metadata": {},
   "outputs": [
    {
     "name": "stdout",
     "output_type": "stream",
     "text": [
      "El elemento está presente en la dupla.\n"
     ]
    }
   ],
   "source": [
    "# 6. Verificar si un elemento está presente en una dupla\n",
    "mi_dupla = (1, 2, 3, 4, 5)\n",
    "elemento = 3\n",
    "if elemento in mi_dupla:\n",
    "    print(\"El elemento está presente en la dupla.\")\n",
    "else:\n",
    "    print(\"El elemento no está presente en la dupla.\")"
   ]
  },
  {
   "cell_type": "code",
   "execution_count": 5,
   "metadata": {},
   "outputs": [
    {
     "name": "stdout",
     "output_type": "stream",
     "text": [
      "El elemento 3 aparece 3 veces en la dupla.\n"
     ]
    }
   ],
   "source": [
    "# 7. Contar la ocurrencia de un elemento en una dupla\n",
    "mi_dupla = (1, 2, 3, 4, 5, 3, 3)\n",
    "ocurrencias = mi_dupla.count(3)\n",
    "print(\"El elemento 3 aparece\", ocurrencias, \"veces en la dupla.\")"
   ]
  },
  {
   "cell_type": "code",
   "execution_count": 6,
   "metadata": {},
   "outputs": [
    {
     "name": "stdout",
     "output_type": "stream",
     "text": [
      "El índice del elemento 30 es: 2\n"
     ]
    }
   ],
   "source": [
    "# 8. Encontrar el índice de un elemento en una dupla\n",
    "mi_dupla = (10, 20, 30, 40, 50)\n",
    "indice = mi_dupla.index(30)\n",
    "print(\"El índice del elemento 30 es:\", indice)"
   ]
  },
  {
   "cell_type": "code",
   "execution_count": 7,
   "metadata": {},
   "outputs": [
    {
     "name": "stdout",
     "output_type": "stream",
     "text": [
      "Dupla vacía: ()\n"
     ]
    }
   ],
   "source": [
    "# 9. Crear una dupla vacía\n",
    "dupla_vacia = ()\n",
    "print(\"Dupla vacía:\", dupla_vacia)"
   ]
  },
  {
   "cell_type": "code",
   "execution_count": 8,
   "metadata": {},
   "outputs": [
    {
     "name": "stdout",
     "output_type": "stream",
     "text": [
      "Dupla con un solo elemento: (5,)\n"
     ]
    }
   ],
   "source": [
    "# 10. Crear una dupla con un solo elemento\n",
    "dupla_un_elemento = (5,)\n",
    "print(\"Dupla con un solo elemento:\", dupla_un_elemento)"
   ]
  }
 ],
 "metadata": {
  "kernelspec": {
   "display_name": "Python 3",
   "language": "python",
   "name": "python3"
  },
  "language_info": {
   "codemirror_mode": {
    "name": "ipython",
    "version": 3
   },
   "file_extension": ".py",
   "mimetype": "text/x-python",
   "name": "python",
   "nbconvert_exporter": "python",
   "pygments_lexer": "ipython3",
   "version": "3.11.8"
  }
 },
 "nbformat": 4,
 "nbformat_minor": 2
}
