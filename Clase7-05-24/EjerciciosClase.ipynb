{
  "nbformat": 4,
  "nbformat_minor": 0,
  "metadata": {
    "colab": {
      "provenance": []
    },
    "kernelspec": {
      "name": "python3",
      "display_name": "Python 3"
    },
    "language_info": {
      "name": "python"
    }
  },
  "cells": [
    {
      "cell_type": "code",
      "execution_count": null,
      "metadata": {
        "id": "65sxgCOMGRFI"
      },
      "outputs": [],
      "source": []
    },
    {
      "cell_type": "markdown",
      "source": [
        "List Slicing"
      ],
      "metadata": {
        "id": "S1TrQks0HdvZ"
      }
    },
    {
      "cell_type": "code",
      "source": [
        "players=['one','tow','three','four','five']\n",
        "print(players[1])\n",
        "print(players)\n",
        "print(type(players))\n",
        "print(players[1:3])"
      ],
      "metadata": {
        "colab": {
          "base_uri": "https://localhost:8080/"
        },
        "id": "3zIjAPRgHfwo",
        "outputId": "e691c5c4-a081-49e3-dccf-cdd1a2886c0d"
      },
      "execution_count": null,
      "outputs": [
        {
          "output_type": "stream",
          "name": "stdout",
          "text": [
            "tow\n",
            "['one', 'tow', 'three', 'four', 'five']\n",
            "<class 'list'>\n",
            "['tow', 'three']\n"
          ]
        }
      ]
    },
    {
      "cell_type": "code",
      "source": [
        "print(players[0:1])\n",
        "print(players[:3])\n",
        "print(players)"
      ],
      "metadata": {
        "colab": {
          "base_uri": "https://localhost:8080/"
        },
        "id": "JppH7xB2H6Ha",
        "outputId": "9e0a8887-098a-4667-b4ca-dfdd2508742c"
      },
      "execution_count": null,
      "outputs": [
        {
          "output_type": "stream",
          "name": "stdout",
          "text": [
            "['one']\n",
            "['one', 'tow', 'three']\n",
            "['one', 'tow', 'three', 'four', 'five']\n"
          ]
        }
      ]
    },
    {
      "cell_type": "code",
      "source": [
        "print(players[2:])"
      ],
      "metadata": {
        "id": "gUj2P0ErIJCL"
      },
      "execution_count": null,
      "outputs": []
    },
    {
      "cell_type": "code",
      "source": [
        "print(players[:])"
      ],
      "metadata": {
        "id": "ESVk3GPPIMrT"
      },
      "execution_count": null,
      "outputs": []
    },
    {
      "cell_type": "code",
      "source": [
        "print(players[-1:-2])"
      ],
      "metadata": {
        "id": "gBoK6hZ3IQVJ"
      },
      "execution_count": null,
      "outputs": []
    },
    {
      "cell_type": "code",
      "source": [
        "print(players[-5:-2])"
      ],
      "metadata": {
        "colab": {
          "base_uri": "https://localhost:8080/"
        },
        "id": "fcCo8fYcGYcR",
        "outputId": "da0cb986-405b-4ce2-9dce-37f5b773fe96"
      },
      "execution_count": null,
      "outputs": [
        {
          "output_type": "stream",
          "name": "stdout",
          "text": [
            "['one', 'tow', 'three']\n"
          ]
        }
      ]
    },
    {
      "cell_type": "code",
      "source": [
        "first_index = -5\n",
        "print(players[first_index:])"
      ],
      "metadata": {
        "colab": {
          "base_uri": "https://localhost:8080/"
        },
        "id": "d3VB76gkIq3-",
        "outputId": "1a555daa-75bc-4c31-e42b-cef7ab3e58d0"
      },
      "execution_count": null,
      "outputs": [
        {
          "output_type": "stream",
          "name": "stdout",
          "text": [
            "['one', 'tow', 'three', 'four', 'five']\n"
          ]
        }
      ]
    },
    {
      "cell_type": "code",
      "source": [
        "# polindromo = oso, anitalavalatina\n",
        "players.append('six')\n",
        "players.append('seven')\n",
        "players.append('eigth')\n",
        "players.append('nine')\n",
        "players.append('ten')\n"
      ],
      "metadata": {
        "id": "S68iFLWfJYS-"
      },
      "execution_count": null,
      "outputs": []
    },
    {
      "cell_type": "code",
      "source": [
        "print(players)\n",
        "print(players[::2])#dos puntos quiere decir que habra dos rangos o si se agregan otros dos habra un incremento\n",
        "#si pones un 4 el incremento sera 4\n",
        "#[3:9:2]\n",
        "print(players[::2])\n",
        "print(players[1::2])#crear linea de dos puntos pares\n"
      ],
      "metadata": {
        "colab": {
          "base_uri": "https://localhost:8080/"
        },
        "id": "nJqMXEEeKLbn",
        "outputId": "7c2cabc1-4e84-48f6-8f9f-c8f8f4eca878"
      },
      "execution_count": null,
      "outputs": [
        {
          "output_type": "stream",
          "name": "stdout",
          "text": [
            "['one', 'tow', 'three', 'four', 'five', 'six', 'seven', 'eigth', 'nine', 'ten']\n",
            "['one', 'three', 'five', 'seven', 'nine']\n",
            "['one', 'three', 'five', 'seven', 'nine']\n",
            "['tow', 'four', 'six', 'eigth', 'ten']\n"
          ]
        }
      ]
    },
    {
      "cell_type": "code",
      "source": [
        "numbers = list(range(1,11))\n",
        "print(numbers)\n",
        "print(len(numbers))\n",
        "\n",
        "print(numbers[::-1])#invierte la linea"
      ],
      "metadata": {
        "colab": {
          "base_uri": "https://localhost:8080/"
        },
        "id": "0iXyTAVlLV5c",
        "outputId": "8b8489ea-49b6-4bf0-e1b7-15a87384349c"
      },
      "execution_count": null,
      "outputs": [
        {
          "output_type": "stream",
          "name": "stdout",
          "text": [
            "[1, 2, 3, 4, 5, 6, 7, 8, 9, 10]\n",
            "10\n",
            "[10, 9, 8, 7, 6, 5, 4, 3, 2, 1]\n"
          ]
        }
      ]
    },
    {
      "cell_type": "code",
      "source": [
        "word = 'anitalavalatina'\n",
        "word == word[::-1]\n"
      ],
      "metadata": {
        "colab": {
          "base_uri": "https://localhost:8080/"
        },
        "id": "Hx_G-bJCMW5z",
        "outputId": "7b755fc1-81d2-4495-f330-ebfb5e67a5a4"
      },
      "execution_count": null,
      "outputs": [
        {
          "output_type": "execute_result",
          "data": {
            "text/plain": [
              "True"
            ]
          },
          "metadata": {},
          "execution_count": 16
        }
      ]
    },
    {
      "cell_type": "code",
      "source": [
        "# copiar una variable\n",
        "nombre = \"Alexis\"\n",
        "nombre2 = nombre\n",
        "nombre = \"Eduardo\"\n",
        "\n",
        "print(nombre,nombre2)\n",
        "\n"
      ],
      "metadata": {
        "colab": {
          "base_uri": "https://localhost:8080/"
        },
        "id": "VnPXi2gsFYQ8",
        "outputId": "ff1f989d-1653-4ace-f850-481fd9873f8c"
      },
      "execution_count": 2,
      "outputs": [
        {
          "output_type": "stream",
          "name": "stdout",
          "text": [
            "Eduardo Alexis\n"
          ]
        }
      ]
    },
    {
      "cell_type": "code",
      "source": [
        "numbers=['one','two','three']\n",
        "numbers_two = numbers\n",
        "\n",
        "print(numbers, numbers_two)\n",
        "print(numbers, numbers_two,sep='\\n')\n",
        "\n",
        "numbers [0]= \"Alexis\" #solo estoy modificando la primera linea\n",
        "\n",
        "print(numbers, numbers_two, sep='\\n')"
      ],
      "metadata": {
        "colab": {
          "base_uri": "https://localhost:8080/"
        },
        "id": "Z9LI49QSHCJE",
        "outputId": "4e827534-be16-494e-da8d-459ca01ef69e"
      },
      "execution_count": 7,
      "outputs": [
        {
          "output_type": "stream",
          "name": "stdout",
          "text": [
            "['one', 'two', 'three'] ['one', 'two', 'three']\n",
            "['one', 'two', 'three']\n",
            "['one', 'two', 'three']\n",
            "['Alexis', 'two', 'three']\n",
            "['Alexis', 'two', 'three']\n"
          ]
        }
      ]
    },
    {
      "cell_type": "code",
      "source": [
        "numbers=['one','two','three']\n",
        "numbers_copy = numbers.copy()\n",
        "\n",
        "numbers [0] = 'Alexis' #solo estoy modificando la primera lista\n",
        "print(numbers, numbers_copy, sep='\\n')"
      ],
      "metadata": {
        "colab": {
          "base_uri": "https://localhost:8080/"
        },
        "id": "lfQSPQoCIyQA",
        "outputId": "6555c7a4-7171-4e97-ba8f-881365181173"
      },
      "execution_count": 8,
      "outputs": [
        {
          "output_type": "stream",
          "name": "stdout",
          "text": [
            "['Alexis', 'two', 'three']\n",
            "['one', 'two', 'three']\n"
          ]
        }
      ]
    },
    {
      "cell_type": "code",
      "source": [
        "#mezclar dos listas\n",
        "numbers_one = [1,2,3]\n",
        "numbers_two = [4,5,6]\n",
        "\n",
        "numbers= numbers_one + numbers_two\n",
        "print(numbers)"
      ],
      "metadata": {
        "colab": {
          "base_uri": "https://localhost:8080/"
        },
        "id": "0KhUoXc7JhSa",
        "outputId": "17d16aea-dca1-4d58-80e4-9227c1136c48"
      },
      "execution_count": 9,
      "outputs": [
        {
          "output_type": "stream",
          "name": "stdout",
          "text": [
            "[1, 2, 3, 4, 5, 6]\n"
          ]
        }
      ]
    },
    {
      "cell_type": "code",
      "source": [
        "# mezclar sin el + , no es correcto\n",
        "numbers_one = [1,2,3]\n",
        "numbers_two = [4,5,6]\n",
        "\n",
        "numbers= (numbers_one, numbers_two)\n"
      ],
      "metadata": {
        "id": "c7QRfqgeKVt9"
      },
      "execution_count": null,
      "outputs": []
    },
    {
      "cell_type": "code",
      "source": [
        "# mezclar listas\n",
        "numbers_one = [1,2,3]\n",
        "numbers_two = [4,5,6]\n",
        "\n",
        "numbers_one.extend(numbers_two)\n",
        "print(numbers_one)"
      ],
      "metadata": {
        "colab": {
          "base_uri": "https://localhost:8080/"
        },
        "id": "DliF9YvtMnKy",
        "outputId": "812004c8-6768-4dc4-bc2b-c26a579727fc"
      },
      "execution_count": 11,
      "outputs": [
        {
          "output_type": "stream",
          "name": "stdout",
          "text": [
            "[1, 2, 3, 4, 5, 6]\n"
          ]
        }
      ]
    },
    {
      "cell_type": "code",
      "source": [
        "#mezclar listas\n",
        "\n",
        "numbers_one = [1,2,3]\n",
        "numbers_two = [4,5,6]\n",
        "\n",
        "for number in (numbers_one, numbers_two):\n",
        "  print(numbers)\n",
        "\n",
        "  for number in (numbers_one, numbers_two):\n",
        "    for n in number:\n",
        "      print(n)\n",
        "\n",
        "numbers = []\n",
        "\n",
        "for number in (numbers_one, numbers_two):\n",
        "    for n in number:\n",
        "      numbers.append(n)\n",
        "\n",
        "print(numbers)\n"
      ],
      "metadata": {
        "colab": {
          "base_uri": "https://localhost:8080/"
        },
        "id": "jyQ2Z8eVM-MX",
        "outputId": "3c5b16fd-a947-4324-982d-fec0d470d2ae"
      },
      "execution_count": 13,
      "outputs": [
        {
          "output_type": "stream",
          "name": "stdout",
          "text": [
            "[1, 2, 3, 4, 5, 6]\n",
            "1\n",
            "2\n",
            "3\n",
            "4\n",
            "5\n",
            "6\n",
            "[1, 2, 3, 4, 5, 6]\n",
            "1\n",
            "2\n",
            "3\n",
            "4\n",
            "5\n",
            "6\n",
            "[1, 2, 3, 4, 5, 6]\n"
          ]
        }
      ]
    },
    {
      "cell_type": "code",
      "source": [
        "#list comprehension\n",
        "\n",
        "numbers = [n for number in (numbers_one, numbers_two) for n in number]\n",
        "print(numbers)"
      ],
      "metadata": {
        "colab": {
          "base_uri": "https://localhost:8080/"
        },
        "id": "2RIXXIWGOsUk",
        "outputId": "5a980f5e-e848-428c-c503-f956937f0d4e"
      },
      "execution_count": 14,
      "outputs": [
        {
          "output_type": "stream",
          "name": "stdout",
          "text": [
            "[1, 2, 3, 4, 5, 6]\n"
          ]
        }
      ]
    },
    {
      "cell_type": "code",
      "source": [
        "# mezclar\n",
        "numbers_one = [1,2,3]\n",
        "numbers_two = [4,5,6]\n",
        "\n",
        "numbers= [*numbers_one, *numbers_two]\n",
        "print(numbers)"
      ],
      "metadata": {
        "id": "aX7Bgvl3P6k8"
      },
      "execution_count": null,
      "outputs": []
    }
  ]
}